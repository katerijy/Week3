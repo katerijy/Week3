{
 "cells": [
  {
   "cell_type": "code",
   "execution_count": null,
   "metadata": {},
   "outputs": [],
   "source": [
    "# # Regex project\n",
    "# # Use python to read the file regex_test.txt and print the last name on each line using regular \n",
    "# expressions and groups \n",
    "# (return None for names with no first and last name, or names that aren't properly capitalized)\n",
    "\n",
    "# Hint: use with open() and readlines()\n"
   ]
  },
  {
   "cell_type": "code",
   "execution_count": 21,
   "metadata": {},
   "outputs": [],
   "source": [
    "import re\n",
    "with open('regex_test.txt') as file:\n",
    "    data = file.read()\n",
    "\n",
    "def last_name():\n",
    "    if i in data.islower == True:\n",
    "        return(\"None\")\n",
    "    group1 = ('first_name')\n",
    "    group2 = ('middle_name')\n",
    "    group3 = ('last_name')\n",
    "    last_name = re.match(r\"(?P<first_name>\\w+)(?P<optional>\\w)*(?P<last_name>\\w)+\\n\") \n",
    "    return group3.strip()\n"
   ]
  }
 ],
 "metadata": {
  "kernelspec": {
   "display_name": "Python 3",
   "language": "python",
   "name": "python3"
  },
  "language_info": {
   "codemirror_mode": {
    "name": "ipython",
    "version": 3
   },
   "file_extension": ".py",
   "mimetype": "text/x-python",
   "name": "python",
   "nbconvert_exporter": "python",
   "pygments_lexer": "ipython3",
   "version": "3.8.5"
  }
 },
 "nbformat": 4,
 "nbformat_minor": 4
}
