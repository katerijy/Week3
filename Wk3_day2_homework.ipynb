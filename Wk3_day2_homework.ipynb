{
 "cells": [
  {
   "cell_type": "code",
   "execution_count": 3,
   "metadata": {},
   "outputs": [
    {
     "name": "stdout",
     "output_type": "stream",
     "text": [
      "Before: ['this', 'is', 'a', 'sentence', '.']\n",
      "After: ['.', 'sentence', 'a', 'is', 'this']\n"
     ]
    }
   ],
   "source": [
    "# Exercise #1\n",
    "# Reverse the list below in-place using an in-place algorithm.\n",
    "# For extra credit: Reverse the strings at the same time.\n",
    "\n",
    "words = ['this' , 'is', 'a', 'sentence', '.']\n",
    "a = list(words)\n",
    "new_a = ['this'] * len(a)\n",
    "print(f'Before: {a}')\n",
    "length = len(a)-1\n",
    "for i in range(length):\n",
    "\n",
    "    new_a[i] = a[length - i]\n",
    "\n",
    "a = new_a\n",
    "\n",
    "print(f'After: {a}')\n"
   ]
  },
  {
   "cell_type": "code",
   "execution_count": null,
   "metadata": {},
   "outputs": [],
   "source": [
    "#Exercise 2\n",
    "\n",
    "string = 'In computing, a hash table hash map is a data structure which implements an associative array abstract data type, a structure that can map keys to values. A hash table uses a hash function to compute an index into an array of buckets or slots from which the desired value can be found'\n",
    "\n",
    "def word_count(string):\n",
    "    counts = dict()\n",
    "    words = str.split()\n",
    "    for word in words:\n",
    "        if word in counts:\n",
    "            counts[word] += 1\n",
    "        else:\n",
    "              counts[word] = 1\n",
    "    return counts\n",
    "\n",
    "print(counts)i"
   ]
  },
  {
   "cell_type": "code",
   "execution_count": null,
   "metadata": {},
   "outputs": [],
   "source": [
    "# Exercise #3\n",
    "# Write a program to implement a Linear Search Algorithm. Also in a comment, write the Time Complexity of the following algorithm.\n",
    "\n",
    "# Hint: Linear Searching will require searching a list for a given number.\n",
    "\n",
    "nums_list = [10,23,45,70,11,15]\n",
    "target = 70\n",
    "nums_list.sort()\n",
    "print(nums_list)\n",
    "\n",
    "# If number is not present return -1\n",
    "def binarySearchHelperFunction(nums_list, target, left, right):\n",
    "    while 10 <= 70:\n",
    "        middle = (10 + 70) // 2\n",
    "        potentialMatch = array[middle]\n",
    "        if target == potentialMatch:\n",
    "            return f\"(The index is...{middle})\"\n",
    "\n",
    "        elif target < potentialMatch:\n",
    "            right = middle - 1\n",
    "        else:\n",
    "            left = middle + 1\n",
    "    return -1"
   ]
  }
 ],
 "metadata": {
  "kernelspec": {
   "display_name": "Python 3",
   "language": "python",
   "name": "python3"
  },
  "language_info": {
   "codemirror_mode": {
    "name": "ipython",
    "version": 3
   },
   "file_extension": ".py",
   "mimetype": "text/x-python",
   "name": "python",
   "nbconvert_exporter": "python",
   "pygments_lexer": "ipython3",
   "version": "3.8.5"
  }
 },
 "nbformat": 4,
 "nbformat_minor": 4
}
